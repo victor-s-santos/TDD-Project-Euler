{
 "cells": [
  {
   "cell_type": "markdown",
   "metadata": {},
   "source": [
    "* # Problem 9 - Special Pythagorean triplet\n",
    "A Pythagorean triplet is a set of three natural numbers, a < b < c, for which, \n",
    "a² + b² = c²\n",
    "\n",
    "For example, 3² + 4² = 9 + 16 = 25 = 5².\n",
    "There exists exactly one Pythagorean triplet for which a + b + c = 1000.\n",
    "Find the product abc."
   ]
  },
  {
   "cell_type": "markdown",
   "metadata": {},
   "source": [
    "* In the first moment, I must to create a script which checks the simplest pythagorean\n",
    "triplet.(3² + 4² = 5²)\n",
    "\n",
    "* # TENHO QUE TER UMA IDEIA PRA COMEÇAR"
   ]
  },
  {
   "cell_type": "markdown",
   "metadata": {},
   "source": [
    "Números pitagóricos\n",
    "* ### a\tb\tc\n",
    "* 3\t4\t5\n",
    "* 5\t12\t13\n",
    "* 7\t24\t25\n",
    "* 9\t40\t41\n",
    "* 11\t60\t61\n",
    "* 13\t84\t85\n",
    "* 15\t112\t113\n",
    "* 17\t144\t145\n",
    "* 19\t180\t181\n",
    "* 21\t220\t221\n",
    "* 23\t264\t265\n",
    "* 25\t312\t313\n",
    "* 27\t364\t365\n",
    "* 29\t420\t421\n",
    "* 31\t480\t481"
   ]
  },
  {
   "cell_type": "code",
   "execution_count": 6,
   "metadata": {},
   "outputs": [
    {
     "ename": "AssertionError",
     "evalue": "",
     "output_type": "error",
     "traceback": [
      "\u001b[0;31m---------------------------------------------------------------------------\u001b[0m",
      "\u001b[0;31mAssertionError\u001b[0m                            Traceback (most recent call last)",
      "\u001b[0;32m<ipython-input-6-a45b0c0be6c9>\u001b[0m in \u001b[0;36m<module>\u001b[0;34m()\u001b[0m\n\u001b[1;32m      4\u001b[0m \u001b[0;32mif\u001b[0m \u001b[0m__name__\u001b[0m \u001b[0;34m==\u001b[0m \u001b[0;34m'__main__'\u001b[0m\u001b[0;34m:\u001b[0m\u001b[0;34m\u001b[0m\u001b[0m\n\u001b[1;32m      5\u001b[0m     \u001b[0;32massert\u001b[0m \u001b[0mtriplet\u001b[0m\u001b[0;34m(\u001b[0m\u001b[0;36m3\u001b[0m\u001b[0;34m,\u001b[0m \u001b[0;36m4\u001b[0m\u001b[0;34m)\u001b[0m \u001b[0;34m==\u001b[0m \u001b[0;36m25\u001b[0m\u001b[0;34m\u001b[0m\u001b[0m\n\u001b[0;32m----> 6\u001b[0;31m     \u001b[0;32massert\u001b[0m \u001b[0mtriplet\u001b[0m\u001b[0;34m(\u001b[0m\u001b[0;36m5\u001b[0m\u001b[0;34m,\u001b[0m \u001b[0;36m12\u001b[0m\u001b[0;34m)\u001b[0m \u001b[0;34m==\u001b[0m \u001b[0;36m169\u001b[0m\u001b[0;34m\u001b[0m\u001b[0m\n\u001b[0m\u001b[1;32m      7\u001b[0m     \u001b[0;32massert\u001b[0m \u001b[0mtriplet\u001b[0m\u001b[0;34m(\u001b[0m\u001b[0;36m7\u001b[0m\u001b[0;34m,\u001b[0m \u001b[0;36m24\u001b[0m\u001b[0;34m)\u001b[0m \u001b[0;34m==\u001b[0m \u001b[0;36m625\u001b[0m\u001b[0;34m\u001b[0m\u001b[0m\n",
      "\u001b[0;31mAssertionError\u001b[0m: "
     ]
    }
   ],
   "source": [
    "def triplet(a, b):\n",
    "    return 25\n",
    "\n",
    "if __name__ == '__main__':\n",
    "    assert triplet(3, 4) == 25\n",
    "    assert triplet(5, 12) == 169\n",
    "    assert triplet(7, 24) == 625"
   ]
  },
  {
   "cell_type": "code",
   "execution_count": 7,
   "metadata": {},
   "outputs": [],
   "source": [
    "def triplet(a, b):\n",
    "    if a == 5 and b == 12:\n",
    "        return 169\n",
    "    if a == 7 and b == 24:\n",
    "        return 625\n",
    "    return 25\n",
    "\n",
    "if __name__ == '__main__':\n",
    "    assert triplet(3, 4) == 25\n",
    "    assert triplet(5, 12) == 169\n",
    "    assert triplet(7, 24) == 625"
   ]
  },
  {
   "cell_type": "code",
   "execution_count": 2,
   "metadata": {},
   "outputs": [],
   "source": [
    "def triplet(a, b):\n",
    "    a = a**2\n",
    "    b = b**2\n",
    "    return(a + b)\n",
    "\n",
    "if __name__ == '__main__':\n",
    "    assert triplet(3, 4) == 25\n",
    "    assert triplet(5, 12) == 169\n",
    "    assert triplet(7, 24) == 625"
   ]
  },
  {
   "cell_type": "markdown",
   "metadata": {},
   "source": [
    "### Look to this pattern: 'b' starts with 4, 'a' with 3. For the next value, a = a + 2, b = b + n, and n = 8. For the next, a = a + 2, n = n + 4 and b = b + n\n",
    "    \n",
    "    \n",
    "    "
   ]
  },
  {
   "cell_type": "code",
   "execution_count": 7,
   "metadata": {},
   "outputs": [
    {
     "name": "stdout",
     "output_type": "stream",
     "text": [
      "25\n",
      "169\n",
      "625\n",
      "1681\n",
      "3721\n",
      "7225\n",
      "12769\n",
      "21025\n",
      "32761\n",
      "48841\n"
     ]
    }
   ],
   "source": [
    "a = 3\n",
    "b = 4\n",
    "n = 8\n",
    "i = 0\n",
    "while i < 10:\n",
    "    print(triplet(a, b))\n",
    "    a = a + 2\n",
    "    b = b + n\n",
    "    n = n + 4\n",
    "    i = i + 1"
   ]
  },
  {
   "cell_type": "code",
   "execution_count": 10,
   "metadata": {},
   "outputs": [
    {
     "name": "stdout",
     "output_type": "stream",
     "text": [
      "5.0\n",
      "13.0\n",
      "25.0\n",
      "41.0\n",
      "61.0\n",
      "85.0\n",
      "113.0\n",
      "145.0\n",
      "181.0\n",
      "221.0\n"
     ]
    }
   ],
   "source": [
    "a = 3\n",
    "b = 4\n",
    "n = 8\n",
    "i = 0\n",
    "while i < 10:\n",
    "    print(triplet(a, b) ** (1/2))\n",
    "    a = a + 2\n",
    "    b = b + n\n",
    "    n = n + 4\n",
    "    i = i + 1"
   ]
  },
  {
   "cell_type": "code",
   "execution_count": 18,
   "metadata": {},
   "outputs": [
    {
     "name": "stdout",
     "output_type": "stream",
     "text": [
      "12.0\n",
      "30.0\n",
      "56.0\n",
      "90.0\n",
      "132.0\n",
      "182.0\n",
      "240.0\n",
      "306.0\n",
      "380.0\n",
      "462.0\n",
      "552.0\n",
      "650.0\n",
      "756.0\n",
      "870.0\n",
      "992.0\n"
     ]
    }
   ],
   "source": [
    "a = 3\n",
    "b = 4\n",
    "n = 8\n",
    "i = 10\n",
    "while(a + b + triplet(a, b) ** (1/2)) <= 100.0:\n",
    "    c = triplet(a, b) ** (1/2)\n",
    "    print(a + b + c)\n",
    "    a = a + 2\n",
    "    b = b + n\n",
    "    n = n + 4\n",
    "    i = i + 1"
   ]
  },
  {
   "cell_type": "code",
   "execution_count": 17,
   "metadata": {},
   "outputs": [
    {
     "data": {
      "text/plain": [
       "180625"
      ]
     },
     "execution_count": 17,
     "metadata": {},
     "output_type": "execute_result"
    }
   ],
   "source": [
    "triplet(200, 375)"
   ]
  },
  {
   "cell_type": "markdown",
   "metadata": {},
   "source": [
    "Looking for the pythagorean triple, I discery is easier if I use the Euclid's Formula, becayse using this patterns, I am going to never get the value which make this assertion True: (a + b + c) = 1000. Therefore, I could use this code above to get many pythagorean triplet, but it isn't what I am looking for."
   ]
  }
 ],
 "metadata": {
  "kernelspec": {
   "display_name": "Python 3",
   "language": "python",
   "name": "python3"
  },
  "language_info": {
   "codemirror_mode": {
    "name": "ipython",
    "version": 3
   },
   "file_extension": ".py",
   "mimetype": "text/x-python",
   "name": "python",
   "nbconvert_exporter": "python",
   "pygments_lexer": "ipython3",
   "version": "3.6.6"
  }
 },
 "nbformat": 4,
 "nbformat_minor": 2
}
